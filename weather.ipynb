{
 "cells": [
  {
   "cell_type": "code",
   "execution_count": 3,
   "metadata": {},
   "outputs": [],
   "source": [
    "import pandas as pd\n",
    "import numpy as np"
   ]
  },
  {
   "cell_type": "code",
   "execution_count": 31,
   "metadata": {},
   "outputs": [
    {
     "name": "stdout",
     "output_type": "stream",
     "text": [
      "Top Ten rows\n",
      "   Date/Time  Temp_C  Dew Point Temp_C  Rel Hum_%  Wind Speed_km/h  \\\n",
      "0  1/1/...     -1.8     -3.9                86          4           \n",
      "1  1/1/...     -1.8     -3.7                87          4           \n",
      "2  1/1/...     -1.8     -3.4                89          7           \n",
      "3  1/1/...     -1.5     -3.2                88          6           \n",
      "4  1/1/...     -1.5     -3.3                88          7           \n",
      "5  1/1/...     -1.4     -3.3                87          9           \n",
      "6  1/1/...     -1.5     -3.1                89          7           \n",
      "7  1/1/...     -1.4     -3.6                85          7           \n",
      "8  1/1/...     -1.4     -3.6                85          9           \n",
      "9  1/1/...     -1.3     -3.1                88         15           \n",
      "\n",
      "   Visibility_km  Press_kPa  Weather  \n",
      "0      8.0         101.24        Fog  \n",
      "1      8.0         101.24        Fog  \n",
      "2      4.0         101.26    Free...  \n",
      "3      4.0         101.27    Free...  \n",
      "4      4.8         101.23        Fog  \n",
      "5      6.4         101.27        Fog  \n",
      "6      6.4         101.29        Fog  \n",
      "7      8.0         101.26        Fog  \n",
      "8      8.0         101.23        Fog  \n",
      "9      4.0         101.20        Fog   \n",
      "\n",
      "Bottom ten rows\n",
      "      Date/Time  Temp_C  Dew Point Temp_C  Rel Hum_%  Wind Speed_km/h  \\\n",
      "8774  12/3...     -3.4     -5.7                84          6           \n",
      "8775  12/3...     -2.3     -4.6                84          9           \n",
      "8776  12/3...     -1.4     -4.0                82         13           \n",
      "8777  12/3...     -1.1     -3.3                85         19           \n",
      "8778  12/3...     -1.3     -3.1                88         17           \n",
      "8779  12/3...      0.1     -2.7                81         30           \n",
      "8780  12/3...      0.2     -2.4                83         24           \n",
      "8781  12/3...     -0.5     -1.5                93         28           \n",
      "8782  12/3...     -0.2     -1.8                89         28           \n",
      "8783  12/3...      0.0     -2.1                86         30           \n",
      "\n",
      "      Visibility_km  Press_kPa Weather  \n",
      "8774     11.3         100.57      Snow  \n",
      "8775      9.7         100.47      Snow  \n",
      "8776     12.9         100.40      Snow  \n",
      "8777      9.7         100.30      Snow  \n",
      "8778      9.7         100.19      Snow  \n",
      "8779      9.7         100.13      Snow  \n",
      "8780      9.7         100.03      Snow  \n",
      "8781      4.8          99.95      Snow  \n",
      "8782      9.7          99.91      Snow  \n",
      "8783     11.3          99.89      Snow  \n"
     ]
    }
   ],
   "source": [
    "#load the csv file into a dataframe\n",
    "file = \"1. Weather Data.csv\"\n",
    "df = pd.read_csv(file)\n",
    "\n",
    "\n",
    "\n",
    "#Display the top ten rows\n",
    "print(\"Top Ten rows\\n\", df[0:10],'\\n')\n",
    "\n",
    "#Display the bottom ten rows\n",
    "print('Bottom ten rows\\n', df[-10:])"
   ]
  },
  {
   "cell_type": "code",
   "execution_count": null,
   "metadata": {},
   "outputs": [],
   "source": []
  }
 ],
 "metadata": {
  "kernelspec": {
   "display_name": "Python 3 (ipykernel)",
   "language": "python",
   "name": "python3"
  },
  "language_info": {
   "codemirror_mode": {
    "name": "ipython",
    "version": 3
   },
   "file_extension": ".py",
   "mimetype": "text/x-python",
   "name": "python",
   "nbconvert_exporter": "python",
   "pygments_lexer": "ipython3",
   "version": "3.12.4"
  }
 },
 "nbformat": 4,
 "nbformat_minor": 4
}
